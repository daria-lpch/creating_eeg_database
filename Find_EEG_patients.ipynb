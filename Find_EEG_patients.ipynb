{
  "cells": [
    {
      "cell_type": "markdown",
      "metadata": {
        "id": "view-in-github",
        "colab_type": "text"
      },
      "source": [
        "<a href=\"https://colab.research.google.com/github/daria-lpch/creating_eeg_database/blob/main/Find_EEG_patients.ipynb\" target=\"_parent\"><img src=\"https://colab.research.google.com/assets/colab-badge.svg\" alt=\"Open In Colab\"/></a>"
      ]
    },
    {
      "cell_type": "markdown",
      "metadata": {
        "id": "NjGj4JiUwW_0"
      },
      "source": [
        "Для работы скопируйте себе на гугл диск, добавьте файлы на диск, пропишите путь к папке на диске, укажите корректное имя файла"
      ]
    },
    {
      "cell_type": "code",
      "source": [
        "#!pip install transliterate"
      ],
      "metadata": {
        "id": "4llVqeVhaKaB"
      },
      "execution_count": null,
      "outputs": []
    },
    {
      "cell_type": "markdown",
      "source": [
        "# Подключим используемые библиотеки"
      ],
      "metadata": {
        "id": "yCz6Nss4aUnU"
      }
    },
    {
      "cell_type": "code",
      "execution_count": 1,
      "metadata": {
        "id": "jZKceiufgoew"
      },
      "outputs": [],
      "source": [
        "\n",
        "import csv\n",
        "\n",
        "#import transliterate\n",
        "#from transliterate import translit\n",
        "\n",
        "import numpy as np\n",
        "from scipy import signal\n",
        "import scipy\n",
        "from sympy import *\n",
        "from bokeh.models.plots import Legend\n",
        "from bokeh.models import Span\n",
        "\n",
        "from bokeh.plotting import figure, output_file, show\n",
        "import bokeh.io\n",
        "from bokeh.resources import INLINE\n",
        "bokeh.io.output_notebook(INLINE)"
      ]
    },
    {
      "cell_type": "markdown",
      "metadata": {
        "id": "kkcQIFx0g03B"
      },
      "source": [
        "# Подключение к гугл диску"
      ]
    },
    {
      "cell_type": "code",
      "execution_count": 2,
      "metadata": {
        "id": "xLq_ZHkzgsoB",
        "colab": {
          "base_uri": "https://localhost:8080/"
        },
        "outputId": "d63273de-e2fb-484c-aab2-292e7f6ac898"
      },
      "outputs": [
        {
          "output_type": "stream",
          "name": "stdout",
          "text": [
            "Mounted at /content/drive/\n"
          ]
        }
      ],
      "source": [
        "from google.colab import drive\n",
        "drive.mount('/content/drive/')"
      ]
    },
    {
      "cell_type": "code",
      "execution_count": 8,
      "metadata": {
        "id": "dk_3esWNgvUK",
        "colab": {
          "base_uri": "https://localhost:8080/"
        },
        "outputId": "ff5f4794-4114-4987-ba37-3f059ee3990e"
      },
      "outputs": [
        {
          "output_type": "stream",
          "name": "stdout",
          "text": [
            "/content/drive/My Drive/EEG_analytics\n"
          ]
        }
      ],
      "source": [
        "%cd /content/drive/My Drive/EEG_analytics/\n"
      ]
    },
    {
      "cell_type": "markdown",
      "metadata": {
        "id": "YPSZNLtqhTM5"
      },
      "source": [
        "# Получение сырых данных"
      ]
    },
    {
      "cell_type": "markdown",
      "metadata": {
        "id": "-dX7wsPuGZ1S"
      },
      "source": [
        "Имена файлов"
      ]
    },
    {
      "cell_type": "code",
      "execution_count": 11,
      "metadata": {
        "id": "TiMLUVzMGZY6",
        "colab": {
          "base_uri": "https://localhost:8080/",
          "height": 70
        },
        "outputId": "d53daa6a-fc1b-4b40-eb6a-6199856312ac"
      },
      "outputs": [
        {
          "output_type": "execute_result",
          "data": {
            "text/plain": [
              "\"\\nwith open(russian_names_multidisgnose_spreadsheet, 'r', newline='') as csv_file:\\n    csv_reader = csv.DictReader(csv_file)\\n    for row in csv_reader:\\n        print(row['Name']) # Access data by header name\\n\""
            ],
            "application/vnd.google.colaboratory.intrinsic+json": {
              "type": "string"
            }
          },
          "metadata": {},
          "execution_count": 11
        }
      ],
      "source": [
        "latin_names_spreadsheet = 'Patients_who_has Eeg.csv'\n",
        "russian_names_spreadsheet = 'Patients_with_MKB.csv'\n",
        "# новая дополнительная таблица с данными\n",
        "russian_names_multidisgnose_spreadsheet = 'Patients_with_ MKB_multidiagnose.csv'\n",
        "# чтобы посмотреть содержимое столбца фамилия из файла на латинице- расскоментируйте блок ниже\n",
        "\"\"\"\n",
        "with open(latin_names_spreadsheet, 'r', newline='') as csv_file:\n",
        "    csv_reader = csv.DictReader(csv_file)\n",
        "    for row in csv_reader:\n",
        "        print(row['Column1']) # Access data by header name\n",
        "\"\"\"\n",
        "\n",
        "# c записями на латинице всё хорошо  - фамилия, имя и отчество - это отдельные колонки\n",
        "# чтобы посмотреть содержимое столбца с ФИО из файла на русском- расскоментируйте блок ниже\n",
        "\n",
        "\"\"\"\n",
        "with open(russian_names_spreadsheet, 'r', newline='') as csv_file:\n",
        "    csv_reader = csv.DictReader(csv_file)\n",
        "    for row in csv_reader:\n",
        "        print(row['Column1']) # Access data by header name\n",
        "\"\"\"\n",
        "\"\"\"\n",
        "with open(russian_names_multidisgnose_spreadsheet, 'r', newline='') as csv_file:\n",
        "    csv_reader = csv.DictReader(csv_file)\n",
        "    for row in csv_reader:\n",
        "        print(row['Name']) # Access data by header name\n",
        "\"\"\"\n",
        "# а c записями на русском не  всё хорошо  - фамилия, имя и отчество -  в одной колонке."
      ]
    },
    {
      "cell_type": "markdown",
      "source": [
        "Подготовим свой транслитератор тк из библиотеки транслирует не так"
      ],
      "metadata": {
        "id": "Ecao8UHlefvQ"
      }
    },
    {
      "cell_type": "code",
      "source": [
        "def transliterate_russian_name(name):\n",
        "    \"\"\"\n",
        "    Базовая функция транслитерации для русскоязычных имен.\n",
        "    \"\"\"\n",
        "    cyrillic_to_latin_map = {\n",
        "        'а': 'a', 'б': 'b', 'в': 'v', 'г': 'g', 'д': 'd', 'е': 'e', 'ё': 'e', 'ж': 'zh',\n",
        "        'з': 'z', 'и': 'i', 'й': 'i', 'к': 'k', 'л': 'l', 'м': 'm', 'н': 'n', 'о': 'o',\n",
        "        'п': 'p', 'р': 'r', 'с': 's', 'т': 't', 'у': 'u', 'ф': 'f', 'х': 'kh', 'ц': 'ts',\n",
        "        'ч': 'ch', 'ш': 'sh', 'щ': 'shch', 'ъ': '', 'ы': 'y', 'ь': '', 'э': 'e', 'ю': 'yu',\n",
        "        'я': 'ya',\n",
        "        'А': 'A', 'Б': 'B', 'В': 'V', 'Г': 'G', 'Д': 'D', 'Е': 'E', 'Ё': 'E', 'Ж': 'Zh',\n",
        "        'З': 'Z', 'И': 'I', 'Й': 'I', 'К': 'K', 'Л': 'L', 'М': 'M', 'Н': 'N', 'О': 'O',\n",
        "        'П': 'P', 'Р': 'R', 'С': 'S', 'Т': 'T', 'У': 'U', 'Ф': 'F', 'Х': 'Kh', 'Ц': 'Ts',\n",
        "        'Ч': 'Ch', 'Ш': 'Sh', 'Щ': 'Shch', 'Ъ': '', 'Ы': 'Y', 'Ь': '', 'Э': 'E', 'Ю': 'Yu',\n",
        "        'Я': 'Ya'\n",
        "    }\n",
        "\n",
        "    translit_name = \"\".join(cyrillic_to_latin_map.get(char, char) for char in name)\n",
        "    return translit_name"
      ],
      "metadata": {
        "id": "kfzdOx0peKTa"
      },
      "execution_count": 13,
      "outputs": []
    },
    {
      "cell_type": "code",
      "source": [
        "# предобработаем  русский файл - разобьем  ФИО на три колонки и тут же транслитерируем\n",
        "russian_name_with_mkb_list =[]\n",
        "english_name_list = []\n",
        "#russian_name_with_mkb_md_list =[]\n",
        "with open(russian_names_spreadsheet, 'r', newline='') as csv_file:\n",
        "    csv_reader = csv.DictReader(csv_file)\n",
        "    for row in csv_reader:\n",
        "        str_fio = row['Column1']\n",
        "        str_fio_translated = transliterate_russian_name(str_fio)\n",
        "        str_mkb = row['Column2']\n",
        "        russian_name_with_mkb_list .append ([str_fio_translated.split(),str_mkb])\n",
        "number_of_elements = len(russian_name_with_mkb_list)\n",
        "print(number_of_elements, \"записей  пациентов с диагнозом МКБ будет использовано для поиска \")\n",
        "#сделаем такой же из английских, для красоты\n",
        "with open(latin_names_spreadsheet, 'r', newline='') as csv_file:\n",
        "    csv_reader = csv.DictReader(csv_file)\n",
        "    for row in csv_reader:\n",
        "        str_surname = row['Column1']\n",
        "        str_name = row['Column2']\n",
        "        str_secondname = row['Column3']\n",
        "        english_name_list.append([str_surname , str_name,str_secondname])\n",
        "number_of_elements = len(english_name_list)\n",
        "print(number_of_elements, \"записей  пациентов, имеющих запись ЭЭГ будем искать\")\n",
        "#print(russian_name_with_mkb_list)\n",
        "print('Новые данные')\n",
        "#новые данные тоже транслитируем\n",
        "with open(russian_names_multidisgnose_spreadsheet, 'r', newline='') as csv_file:\n",
        "    csv_reader = csv.DictReader(csv_file)\n",
        "    for row in csv_reader:\n",
        "      for row in csv_reader:\n",
        "        str_fio = row['Name']\n",
        "        str_fio_translated = transliterate_russian_name(str_fio)\n",
        "        str_mkb = row['DS']\n",
        "        #добавляем в тот же лист\n",
        "        russian_name_with_mkb_list.append ([str_fio_translated.split(),str_mkb])\n",
        "number_of_elements = len(russian_name_with_mkb_list)\n",
        "print(number_of_elements, \"записей  пациентов с диагнозом МКБ будет использовано для поиска - после добавления дополнительных данных \")\n",
        "#print(russian_name_with_mkb_list)\n",
        "#print(english_name_list)\n",
        "\n",
        "from pprint import pprint\n",
        "\"\"\"\n",
        "pprint(russian_name_with_mkb_list)\n",
        "\"\"\""
      ],
      "metadata": {
        "colab": {
          "base_uri": "https://localhost:8080/",
          "height": 125
        },
        "id": "856a53hTuq-A",
        "outputId": "b29d481c-958a-42e4-ca15-e1cde7766851",
        "collapsed": true
      },
      "execution_count": 49,
      "outputs": [
        {
          "output_type": "stream",
          "name": "stdout",
          "text": [
            "3044 записей  пациентов с диагнозом МКБ будет использовано для поиска \n",
            "881 записей  пациентов, имеющих запись ЭЭГ будем искать\n",
            "Новые данные\n",
            "3251 записей  пациентов с диагнозом МКБ будет использовано для поиска - после добавления дополнительных данных \n"
          ]
        },
        {
          "output_type": "execute_result",
          "data": {
            "text/plain": [
              "'\\npprint(russian_name_with_mkb_list)\\n'"
            ],
            "application/vnd.google.colaboratory.intrinsic+json": {
              "type": "string"
            }
          },
          "metadata": {},
          "execution_count": 49
        }
      ]
    },
    {
      "cell_type": "markdown",
      "source": [
        "Нашла следующие ошибки в  изначальном файле с пациентами у которых есть  ЭЭГ\n",
        "\n",
        "1.   Неправильная транслитерация Ульяна как Uliana\n",
        "2.   11 пациентов без отчеств, Имя занеcено в графу отчество\n",
        "\n",
        "\n",
        "\n"
      ],
      "metadata": {
        "id": "08isTDPHf8fk"
      }
    },
    {
      "cell_type": "markdown",
      "source": [
        "# Так, а теперь должен быть поиск. Искать будем пациентов из списка с МкБ в списке с ЭЭГ"
      ],
      "metadata": {
        "id": "P9IG4I-LhLU-"
      }
    },
    {
      "cell_type": "code",
      "source": [
        "matching_patients = []\n",
        "\n",
        "# Iterate through the Russian list\n",
        "for russian_patient in russian_name_with_mkb_list:\n",
        "    russian_fio = russian_patient[0]  # ['Surname', 'Name', 'Patronymic']\n",
        "    russian_mkb = russian_patient[1]\n",
        "\n",
        "    # Iterate through the English list\n",
        "    for english_patient in english_name_list:\n",
        "        english_fio = english_patient  # ['Surname', 'Name', 'Patronymic']\n",
        "  #  в базе есть ошибки- отчества введены не полностью. поэтому сначала сравним без отчеств\n",
        "        if russian_fio[0] == english_fio[0] and \\\n",
        "           russian_fio[1] == english_fio[1]:\n",
        "           matching_patients.append((english_fio, russian_mkb))\n",
        "# Print the matching patients and their MKB codes\n",
        "#print(\"Matching Patients (Name, Surname, Patronymic) and MKB Code:\")\n",
        "\"\"\"\n",
        "for patient_info ,mkb_code in matching_patients:\n",
        "    pprint(f\" {' '.join(patient_info)}, {mkb_code}\")\n",
        "\"\"\"\n",
        "number_of_elements = len(matching_patients)\n",
        "print(number_of_elements, \"пациентов найдено\")"
      ],
      "metadata": {
        "id": "6QvcHxujhKIY",
        "colab": {
          "base_uri": "https://localhost:8080/"
        },
        "outputId": "ef59a5c5-0eb5-406d-b329-33fc0fe12813"
      },
      "execution_count": 43,
      "outputs": [
        {
          "output_type": "stream",
          "name": "stdout",
          "text": [
            "285 пациентов найдено\n"
          ]
        }
      ]
    },
    {
      "cell_type": "code",
      "source": [
        "import csv\n",
        "\n",
        "# Define the output file name\n",
        "output_filename = 'FoundPatients.csv'\n",
        "\n",
        "# Write the matching_patients list to a CSV file\n",
        "with open(output_filename, 'w', newline='', encoding='utf-8') as csvfile:\n",
        "    csv_writer = csv.writer(csvfile)\n",
        "\n",
        "    # Write header row\n",
        "    csv_writer.writerow(['Surname', 'Name', 'Patronymic', 'MKB Code'])\n",
        "\n",
        "    # Write data rows\n",
        "    for patient_info, mkb_code in matching_patients:\n",
        "        # Join the patient_info list into a single string for the first column\n",
        "        csv_writer.writerow([patient_info[0], patient_info[1], patient_info[2] if len(patient_info) > 2 else '', mkb_code])\n",
        "\n",
        "print(f\"Список найденных пациентов сохранен в файл {output_filename}\")"
      ],
      "metadata": {
        "colab": {
          "base_uri": "https://localhost:8080/"
        },
        "id": "b6_o9Qi3ftBa",
        "outputId": "4a20d24e-f936-4f97-e449-bfa612a97f01"
      },
      "execution_count": 46,
      "outputs": [
        {
          "output_type": "stream",
          "name": "stdout",
          "text": [
            "Список найденных пациентов сохранен в файл FoundPatients.csv\n"
          ]
        }
      ]
    },
    {
      "cell_type": "code",
      "source": [
        "#уберем дубликаты склеив ФИО с мкб\n",
        "#сделать это надо по умному - если диагнозы равны, то убираем дубликат, если диагнозы не равны- склеиваем\n",
        "merged_fio_list=[]\n",
        "for patient_info, mkb_code in matching_patients:\n",
        "    merged_fio_list.append(f\"{' '.join(patient_info)} {mkb_code}\")\n",
        "unique_fio_set = set(merged_fio_list)\n",
        "unique_list = list(unique_fio_set)\n",
        "#print(unique_list)\n",
        "#теперь расклеим обратно\n",
        "unique_english_name_list_with_mkb = []\n",
        "for row in unique_list:\n",
        "    unique_english_name_list_with_mkb.append (row.split())\n",
        "print(unique_english_name_list_with_mkb)"
      ],
      "metadata": {
        "id": "1tUeNhz4Jym5"
      },
      "execution_count": null,
      "outputs": []
    },
    {
      "cell_type": "markdown",
      "source": [
        "#Пилим отображение уникальных мкб-кодов"
      ],
      "metadata": {
        "id": "jLk5rb01tm6h"
      }
    },
    {
      "cell_type": "code",
      "source": [
        "import pandas as pd\n",
        "import matplotlib.pyplot as plt\n",
        "\n",
        "# Convert the list to a pandas DataFrame for easier processing\n",
        "df_mkb = pd.DataFrame(unique_english_name_list_with_mkb, columns=['Surname', 'Name', 'Patronymic', 'MKB Code'])\n",
        "\n",
        "# Count the occurrences of each MKB code\n",
        "mkb_counts = df_mkb['MKB Code'].value_counts()\n",
        "\n",
        "# Create a pie chart\n",
        "plt.figure(figsize=(10, 10))\n",
        "plt.pie(mkb_counts, labels=mkb_counts.index, autopct='%1.1f%%', startangle=140)\n",
        "plt.title('Distribution of MKB Codes')\n",
        "plt.axis('equal')  # Equal aspect ratio ensures that pie is drawn as a circle.\n",
        "plt.show()"
      ],
      "metadata": {
        "id": "lbG_g7E2tAZ4"
      },
      "execution_count": null,
      "outputs": []
    },
    {
      "cell_type": "markdown",
      "source": [
        "Теперь отобразим с расшифровкой"
      ],
      "metadata": {
        "id": "hr4FuG3u7hTr"
      }
    },
    {
      "cell_type": "code",
      "source": [
        "mkb_decodes_spreadsheet = 'unique_mkb_decoder.csv'\n",
        "diagnoses = []\n",
        "# чтобы посмотреть содержимое столбца фамилия из файла на латинице- расскоментируйте блок ниже\n",
        "with open(mkb_decodes_spreadsheet, 'r', newline='') as csv_file:\n",
        "    csv_reader = csv.DictReader(csv_file)\n",
        "    for row in csv_reader:\n",
        "        diagnoses.append (row)\n",
        "print(diagnoses)\n"
      ],
      "metadata": {
        "id": "3VsUhtTG6wCD"
      },
      "execution_count": null,
      "outputs": []
    },
    {
      "cell_type": "code",
      "metadata": {
        "id": "ed5b9899"
      },
      "source": [
        "# Create a dictionary from the diagnoses list for easy lookup of annotations by MKB code\n",
        "mkb_decoder = {d['code']: d['расшифровка'] for d in diagnoses}\n",
        "\n",
        "# Create a new list with annotations added\n",
        "unique_english_name_list_with_mkb_annotated = []\n",
        "for patient_info in unique_english_name_list_with_mkb:\n",
        "    # Assuming the MKB code is the last element in the list\n",
        "    mkb_code = patient_info[-1]\n",
        "    annotation = mkb_decoder.get(mkb_code, 'Unknown') # Get annotation, default to 'Unknown' if not found\n",
        "    unique_english_name_list_with_mkb_annotated.append(patient_info + [annotation])\n",
        "\n",
        "# Print the first few entries of the new list to verify\n",
        "print(unique_english_name_list_with_mkb_annotated[:5])"
      ],
      "execution_count": null,
      "outputs": []
    },
    {
      "cell_type": "code",
      "source": [
        "# Convert the list to a pandas DataFrame for easier processing\n",
        "df_mkb = pd.DataFrame(unique_english_name_list_with_mkb_annotated, columns=['Surname', 'Name', 'Patronymic', 'MKB Code', 'Diagnose'])\n",
        "\n",
        "# Count the occurrences of each MKB code\n",
        "mkb_counts = df_mkb['Diagnose'].value_counts()\n",
        "\n",
        "# Create a pie chart\n",
        "plt.figure(figsize=(10, 10))\n",
        "plt.pie(mkb_counts, labels=mkb_counts.index, autopct='%1.1f%%', startangle=140)\n",
        "plt.title('Distribution of Diagnoses')\n",
        "plt.axis('equal')  # Equal aspect ratio ensures that pie is drawn as a circle.\n",
        "plt.show()"
      ],
      "metadata": {
        "id": "UorGsaIL854W"
      },
      "execution_count": null,
      "outputs": []
    },
    {
      "cell_type": "code",
      "source": [
        "#Еще раз, но поиграем с отображением"
      ],
      "metadata": {
        "id": "lvyiKMWn_jtz"
      },
      "execution_count": null,
      "outputs": []
    },
    {
      "cell_type": "code",
      "source": [
        "# Convert the list to a pandas DataFrame for easier processing\n",
        "df_mkb = pd.DataFrame(unique_english_name_list_with_mkb_annotated, columns=['Surname', 'Name', 'Patronymic', 'MKB Code', 'Diagnose'])\n",
        "\n",
        "# Count the occurrences of each MKB code\n",
        "mkb_counts = df_mkb['Diagnose'].value_counts()\n",
        "\n",
        "# Create a pie chart\n",
        "plt.figure(figsize=(10, 10))\n",
        "plt.pie(mkb_counts, labels=None, autopct='%1.1f%%', startangle=140)\n",
        "plt.title('Распределение диагнозов')\n",
        "\n",
        "plt.legend(labels=mkb_counts.index, title=\"Диагнозы\")\n",
        "plt.axis('equal')  # Equal aspect ratio ensures that pie is drawn as a circle.\n",
        "plt.show()"
      ],
      "metadata": {
        "id": "AMJBsoXZ_k2T"
      },
      "execution_count": null,
      "outputs": []
    }
  ],
  "metadata": {
    "colab": {
      "provenance": [],
      "include_colab_link": true
    },
    "kernelspec": {
      "display_name": "Python 3",
      "name": "python3"
    },
    "language_info": {
      "name": "python"
    }
  },
  "nbformat": 4,
  "nbformat_minor": 0
}